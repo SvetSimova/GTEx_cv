{
 "cells": [
  {
   "cell_type": "code",
   "execution_count": 8,
   "metadata": {
    "collapsed": true,
    "pycharm": {
     "name": "#%%\n"
    }
   },
   "outputs": [],
   "source": [
    "import pandas as pd\n",
    "import random\n",
    "import os\n",
    "from typing import List, Dict\n",
    "import json"
   ]
  },
  {
   "cell_type": "markdown",
   "source": [
    "### Before executing this code:\n",
    "*    Create the main project folder in the desired location ('GTEx' for me);\n",
    "*    Put `GTEx Portal.csv` and `gen_sample_list.json` files, which contains the description of histo images, in this project folder;\n",
    "*    Check `gen_sample_list.json` file to see if it's already in the project folder (should have been created with `prep_genedata.ipynb`).\n",
    "*    Write the path inside this project folder in project_path."
   ],
   "metadata": {
    "collapsed": false,
    "pycharm": {
     "name": "#%% md\n"
    }
   }
  },
  {
   "cell_type": "code",
   "execution_count": 24,
   "outputs": [],
   "source": [
    "project_path = 'c:/Projects/GTEx/'"
   ],
   "metadata": {
    "collapsed": false,
    "pycharm": {
     "name": "#%%\n"
    }
   }
  },
  {
   "cell_type": "markdown",
   "source": [
    "### Import Data"
   ],
   "metadata": {
    "collapsed": false,
    "pycharm": {
     "name": "#%% md\n"
    }
   }
  },
  {
   "cell_type": "code",
   "execution_count": 10,
   "outputs": [
    {
     "name": "stdout",
     "output_type": "stream",
     "text": [
      "(25713, 8)\n"
     ]
    },
    {
     "data": {
      "text/plain": "  Tissue Sample ID                          Tissue  Subject ID     Sex  \\\n0  GTEX-1117F-0126  Skin - Sun Exposed (Lower leg)  GTEX-1117F  female   \n1  GTEX-1117F-0226          Adipose - Subcutaneous  GTEX-1117F  female   \n2  GTEX-1117F-0326                  Nerve - Tibial  GTEX-1117F  female   \n3  GTEX-1117F-0426               Muscle - Skeletal  GTEX-1117F  female   \n4  GTEX-1117F-0526                 Artery - Tibial  GTEX-1117F  female   \n\n  Age Bracket Hardy Scale   Pathology Categories  \\\n0       60-69  Slow death                    NaN   \n1       60-69  Slow death                    NaN   \n2       60-69  Slow death        clean_specimens   \n3       60-69  Slow death                    NaN   \n4       60-69  Slow death  monckeberg, sclerotic   \n\n                                     Pathology Notes  \n0  6 pieces, minimal fat, squamous epithelium is ...  \n1       2 pieces, ~15% vessel stroma, rep delineated  \n2                          2 pieces, clean specimens  \n3  2 pieces, !5% fibrous connective tissue, delin...  \n4  2 pieces, clean, Monckebeg medial sclerosis, r...  ",
      "text/html": "<div>\n<style scoped>\n    .dataframe tbody tr th:only-of-type {\n        vertical-align: middle;\n    }\n\n    .dataframe tbody tr th {\n        vertical-align: top;\n    }\n\n    .dataframe thead th {\n        text-align: right;\n    }\n</style>\n<table border=\"1\" class=\"dataframe\">\n  <thead>\n    <tr style=\"text-align: right;\">\n      <th></th>\n      <th>Tissue Sample ID</th>\n      <th>Tissue</th>\n      <th>Subject ID</th>\n      <th>Sex</th>\n      <th>Age Bracket</th>\n      <th>Hardy Scale</th>\n      <th>Pathology Categories</th>\n      <th>Pathology Notes</th>\n    </tr>\n  </thead>\n  <tbody>\n    <tr>\n      <th>0</th>\n      <td>GTEX-1117F-0126</td>\n      <td>Skin - Sun Exposed (Lower leg)</td>\n      <td>GTEX-1117F</td>\n      <td>female</td>\n      <td>60-69</td>\n      <td>Slow death</td>\n      <td>NaN</td>\n      <td>6 pieces, minimal fat, squamous epithelium is ...</td>\n    </tr>\n    <tr>\n      <th>1</th>\n      <td>GTEX-1117F-0226</td>\n      <td>Adipose - Subcutaneous</td>\n      <td>GTEX-1117F</td>\n      <td>female</td>\n      <td>60-69</td>\n      <td>Slow death</td>\n      <td>NaN</td>\n      <td>2 pieces, ~15% vessel stroma, rep delineated</td>\n    </tr>\n    <tr>\n      <th>2</th>\n      <td>GTEX-1117F-0326</td>\n      <td>Nerve - Tibial</td>\n      <td>GTEX-1117F</td>\n      <td>female</td>\n      <td>60-69</td>\n      <td>Slow death</td>\n      <td>clean_specimens</td>\n      <td>2 pieces, clean specimens</td>\n    </tr>\n    <tr>\n      <th>3</th>\n      <td>GTEX-1117F-0426</td>\n      <td>Muscle - Skeletal</td>\n      <td>GTEX-1117F</td>\n      <td>female</td>\n      <td>60-69</td>\n      <td>Slow death</td>\n      <td>NaN</td>\n      <td>2 pieces, !5% fibrous connective tissue, delin...</td>\n    </tr>\n    <tr>\n      <th>4</th>\n      <td>GTEX-1117F-0526</td>\n      <td>Artery - Tibial</td>\n      <td>GTEX-1117F</td>\n      <td>female</td>\n      <td>60-69</td>\n      <td>Slow death</td>\n      <td>monckeberg, sclerotic</td>\n      <td>2 pieces, clean, Monckebeg medial sclerosis, r...</td>\n    </tr>\n  </tbody>\n</table>\n</div>"
     },
     "execution_count": 10,
     "metadata": {},
     "output_type": "execute_result"
    }
   ],
   "source": [
    "df = pd.read_csv(project_path + 'GTEx Portal.csv')\n",
    "print(df.shape)             # check the shape\n",
    "df.head()                   # check the data"
   ],
   "metadata": {
    "collapsed": false,
    "pycharm": {
     "name": "#%%\n"
    }
   }
  },
  {
   "cell_type": "markdown",
   "source": [
    "### Some Dataset transformations for more comfortable further usage"
   ],
   "metadata": {
    "collapsed": false,
    "pycharm": {
     "name": "#%% md\n"
    }
   }
  },
  {
   "cell_type": "code",
   "execution_count": 12,
   "outputs": [
    {
     "data": {
      "text/plain": "Index(['Adipose - Subcutaneous', 'Adipose - Visceral (Omentum)',\n       'Adrenal Gland', 'Artery - Aorta', 'Artery - Coronary',\n       'Artery - Tibial', 'Bladder', 'Brain - Cerebellum', 'Brain - Cortex',\n       'Breast - Mammary Tissue', 'Cervix - Ectocervix', 'Cervix - Endocervix',\n       'Colon - Sigmoid', 'Colon - Transverse',\n       'Esophagus - Gastroesophageal Junction', 'Esophagus - Mucosa',\n       'Esophagus - Muscularis', 'Fallopian Tube', 'Heart - Atrial Appendage',\n       'Heart - Left Ventricle', 'Kidney - Cortex', 'Kidney - Medulla',\n       'Liver', 'Lung', 'Minor Salivary Gland', 'Muscle - Skeletal',\n       'Nerve - Tibial', 'Ovary', 'Pancreas', 'Pituitary', 'Prostate',\n       'Skin - Not Sun Exposed (Suprapubic)', 'Skin - Sun Exposed (Lower leg)',\n       'Small Intestine - Terminal Ileum', 'Spleen', 'Stomach', 'Testis',\n       'Thyroid', 'Uterus', 'Vagina'],\n      dtype='object', name='tissue')"
     },
     "execution_count": 12,
     "metadata": {},
     "output_type": "execute_result"
    }
   ],
   "source": [
    "# Rename the column names for further more comfortable usage\n",
    "df.columns = ['sample_id', 'tissue', 'patient_id', 'sex', 'age', 'hardy_scale', 'path_categories', 'path_notes']\n",
    "# See the whole list of tissues\n",
    "df.tissue.value_counts().sort_index().index"
   ],
   "metadata": {
    "collapsed": false,
    "pycharm": {
     "name": "#%%\n"
    }
   }
  },
  {
   "cell_type": "code",
   "execution_count": 13,
   "outputs": [
    {
     "name": "stdout",
     "output_type": "stream",
     "text": [
      "['Adipose - Subcutaneous', 'Adipose - Visceral (Omentum)', 'Adrenal Gland']\n",
      "['adipose_sub', 'adipose_visc', 'gland_adrenal']\n",
      "40 40\n"
     ]
    }
   ],
   "source": [
    "# Create two lists of tissues - with full and short names for more comfortable further usage, especially for multiclassification task later...\n",
    "tissue_full_list = list(df.tissue.value_counts().sort_index().index)\n",
    "tissue_short_list = ['adipose_sub', 'adipose_visc','gland_adrenal', 'artery_aorta', 'artery_сoronary', 'artery_tibial', 'bladder', 'brain_cerebellum', 'brain_cortex', 'breast_mammary', 'cervix_ecto', 'cervix_endo','colon_sigmoid', 'colon_transverse', 'esophagus_gastro', 'esophagus_mucosa', 'esophagus_muscularis','fallopian_tube', 'heart_atrial', 'heart_ventrical', 'kidney_cortex', 'kidney_medulla', 'liver', 'lung', 'gland_salivary', 'muscle_skeletal', 'nerve_tibial', 'ovary', 'pancreas', 'pituitary', 'prostate', 'skin_notsun',  'skin_sun','intestine_small', 'spleen', 'stomach', 'testis', 'thyroid', 'uterus', 'vagina']\n",
    "# Validation\n",
    "print(tissue_full_list[:3])\n",
    "print(tissue_short_list[:3])\n",
    "print(len(tissue_short_list), len(tissue_full_list))"
   ],
   "metadata": {
    "collapsed": false,
    "pycharm": {
     "name": "#%%\n"
    }
   }
  },
  {
   "cell_type": "code",
   "execution_count": 14,
   "outputs": [
    {
     "data": {
      "text/plain": "         sample_id                          tissue  patient_id     sex    age  \\\n0  GTEX-1117F-0126  Skin - Sun Exposed (Lower leg)  GTEX-1117F  female  60-69   \n1  GTEX-1117F-0226          Adipose - Subcutaneous  GTEX-1117F  female  60-69   \n2  GTEX-1117F-0326                  Nerve - Tibial  GTEX-1117F  female  60-69   \n3  GTEX-1117F-0426               Muscle - Skeletal  GTEX-1117F  female  60-69   \n4  GTEX-1117F-0526                 Artery - Tibial  GTEX-1117F  female  60-69   \n\n  hardy_scale        path_categories  \\\n0  Slow death                    NaN   \n1  Slow death                    NaN   \n2  Slow death        clean_specimens   \n3  Slow death                    NaN   \n4  Slow death  monckeberg, sclerotic   \n\n                                          path_notes              tis  \n0  6 pieces, minimal fat, squamous epithelium is ...         skin_sun  \n1       2 pieces, ~15% vessel stroma, rep delineated      adipose_sub  \n2                          2 pieces, clean specimens     nerve_tibial  \n3  2 pieces, !5% fibrous connective tissue, delin...  muscle_skeletal  \n4  2 pieces, clean, Monckebeg medial sclerosis, r...    artery_tibial  ",
      "text/html": "<div>\n<style scoped>\n    .dataframe tbody tr th:only-of-type {\n        vertical-align: middle;\n    }\n\n    .dataframe tbody tr th {\n        vertical-align: top;\n    }\n\n    .dataframe thead th {\n        text-align: right;\n    }\n</style>\n<table border=\"1\" class=\"dataframe\">\n  <thead>\n    <tr style=\"text-align: right;\">\n      <th></th>\n      <th>sample_id</th>\n      <th>tissue</th>\n      <th>patient_id</th>\n      <th>sex</th>\n      <th>age</th>\n      <th>hardy_scale</th>\n      <th>path_categories</th>\n      <th>path_notes</th>\n      <th>tis</th>\n    </tr>\n  </thead>\n  <tbody>\n    <tr>\n      <th>0</th>\n      <td>GTEX-1117F-0126</td>\n      <td>Skin - Sun Exposed (Lower leg)</td>\n      <td>GTEX-1117F</td>\n      <td>female</td>\n      <td>60-69</td>\n      <td>Slow death</td>\n      <td>NaN</td>\n      <td>6 pieces, minimal fat, squamous epithelium is ...</td>\n      <td>skin_sun</td>\n    </tr>\n    <tr>\n      <th>1</th>\n      <td>GTEX-1117F-0226</td>\n      <td>Adipose - Subcutaneous</td>\n      <td>GTEX-1117F</td>\n      <td>female</td>\n      <td>60-69</td>\n      <td>Slow death</td>\n      <td>NaN</td>\n      <td>2 pieces, ~15% vessel stroma, rep delineated</td>\n      <td>adipose_sub</td>\n    </tr>\n    <tr>\n      <th>2</th>\n      <td>GTEX-1117F-0326</td>\n      <td>Nerve - Tibial</td>\n      <td>GTEX-1117F</td>\n      <td>female</td>\n      <td>60-69</td>\n      <td>Slow death</td>\n      <td>clean_specimens</td>\n      <td>2 pieces, clean specimens</td>\n      <td>nerve_tibial</td>\n    </tr>\n    <tr>\n      <th>3</th>\n      <td>GTEX-1117F-0426</td>\n      <td>Muscle - Skeletal</td>\n      <td>GTEX-1117F</td>\n      <td>female</td>\n      <td>60-69</td>\n      <td>Slow death</td>\n      <td>NaN</td>\n      <td>2 pieces, !5% fibrous connective tissue, delin...</td>\n      <td>muscle_skeletal</td>\n    </tr>\n    <tr>\n      <th>4</th>\n      <td>GTEX-1117F-0526</td>\n      <td>Artery - Tibial</td>\n      <td>GTEX-1117F</td>\n      <td>female</td>\n      <td>60-69</td>\n      <td>Slow death</td>\n      <td>monckeberg, sclerotic</td>\n      <td>2 pieces, clean, Monckebeg medial sclerosis, r...</td>\n      <td>artery_tibial</td>\n    </tr>\n  </tbody>\n</table>\n</div>"
     },
     "execution_count": 14,
     "metadata": {},
     "output_type": "execute_result"
    }
   ],
   "source": [
    "# Create a mapping dictionary\n",
    "mapping_dict = dict(zip(tissue_full_list, tissue_short_list))\n",
    "# Create a new column 'tis' by mapping values from 'tissue' column to the dictionary\n",
    "df['tis'] = df['tissue'].map(mapping_dict)\n",
    "df.head()"
   ],
   "metadata": {
    "collapsed": false,
    "pycharm": {
     "name": "#%%\n"
    }
   }
  },
  {
   "cell_type": "code",
   "execution_count": 36,
   "outputs": [],
   "source": [
    "img_sample_list = df.sample_id.to_list()    # 25713\n",
    "gen_sample_list = json.load(open(project_dir + 'gen_sample_list.json', 'rb'))     # 15585\n",
    "both_img_gen_list = list(set(img_sample_list) & set(gen_sample_list)) # 13797"
   ],
   "metadata": {
    "collapsed": false,
    "pycharm": {
     "name": "#%%\n"
    }
   }
  },
  {
   "cell_type": "code",
   "execution_count": 29,
   "outputs": [],
   "source": [
    "with open(project_dir + 'img_sample_list.json', \"w\") as json_file:\n",
    "    json.dump(img_sample_list, json_file)\n",
    "with open(project_dir + 'both_img_gen_list.json', \"w\") as json_file:\n",
    "    json.dump(both_img_gen_list, json_file)"
   ],
   "metadata": {
    "collapsed": false,
    "pycharm": {
     "name": "#%%\n"
    }
   }
  },
  {
   "cell_type": "code",
   "execution_count": 31,
   "outputs": [
    {
     "data": {
      "text/plain": "         sample_id                    tissue  patient_id     sex    age  \\\n1  GTEX-1117F-0226    Adipose - Subcutaneous  GTEX-1117F  female  60-69   \n3  GTEX-1117F-0426         Muscle - Skeletal  GTEX-1117F  female  60-69   \n4  GTEX-1117F-0526           Artery - Tibial  GTEX-1117F  female  60-69   \n5  GTEX-1117F-0626         Artery - Coronary  GTEX-1117F  female  60-69   \n6  GTEX-1117F-0726  Heart - Atrial Appendage  GTEX-1117F  female  60-69   \n\n  hardy_scale        path_categories  \\\n1  Slow death                    NaN   \n3  Slow death                    NaN   \n4  Slow death  monckeberg, sclerotic   \n5  Slow death                    NaN   \n6  Slow death       no_abnormalities   \n\n                                          path_notes              tis  \n1       2 pieces, ~15% vessel stroma, rep delineated      adipose_sub  \n3  2 pieces, !5% fibrous connective tissue, delin...  muscle_skeletal  \n4  2 pieces, clean, Monckebeg medial sclerosis, r...    artery_tibial  \n5  2 pieces, up to 4mm aderent fat/nerve/vessel, ...  artery_сoronary  \n6                         2 pieces, no abnormalities     heart_atrial  ",
      "text/html": "<div>\n<style scoped>\n    .dataframe tbody tr th:only-of-type {\n        vertical-align: middle;\n    }\n\n    .dataframe tbody tr th {\n        vertical-align: top;\n    }\n\n    .dataframe thead th {\n        text-align: right;\n    }\n</style>\n<table border=\"1\" class=\"dataframe\">\n  <thead>\n    <tr style=\"text-align: right;\">\n      <th></th>\n      <th>sample_id</th>\n      <th>tissue</th>\n      <th>patient_id</th>\n      <th>sex</th>\n      <th>age</th>\n      <th>hardy_scale</th>\n      <th>path_categories</th>\n      <th>path_notes</th>\n      <th>tis</th>\n    </tr>\n  </thead>\n  <tbody>\n    <tr>\n      <th>1</th>\n      <td>GTEX-1117F-0226</td>\n      <td>Adipose - Subcutaneous</td>\n      <td>GTEX-1117F</td>\n      <td>female</td>\n      <td>60-69</td>\n      <td>Slow death</td>\n      <td>NaN</td>\n      <td>2 pieces, ~15% vessel stroma, rep delineated</td>\n      <td>adipose_sub</td>\n    </tr>\n    <tr>\n      <th>3</th>\n      <td>GTEX-1117F-0426</td>\n      <td>Muscle - Skeletal</td>\n      <td>GTEX-1117F</td>\n      <td>female</td>\n      <td>60-69</td>\n      <td>Slow death</td>\n      <td>NaN</td>\n      <td>2 pieces, !5% fibrous connective tissue, delin...</td>\n      <td>muscle_skeletal</td>\n    </tr>\n    <tr>\n      <th>4</th>\n      <td>GTEX-1117F-0526</td>\n      <td>Artery - Tibial</td>\n      <td>GTEX-1117F</td>\n      <td>female</td>\n      <td>60-69</td>\n      <td>Slow death</td>\n      <td>monckeberg, sclerotic</td>\n      <td>2 pieces, clean, Monckebeg medial sclerosis, r...</td>\n      <td>artery_tibial</td>\n    </tr>\n    <tr>\n      <th>5</th>\n      <td>GTEX-1117F-0626</td>\n      <td>Artery - Coronary</td>\n      <td>GTEX-1117F</td>\n      <td>female</td>\n      <td>60-69</td>\n      <td>Slow death</td>\n      <td>NaN</td>\n      <td>2 pieces, up to 4mm aderent fat/nerve/vessel, ...</td>\n      <td>artery_сoronary</td>\n    </tr>\n    <tr>\n      <th>6</th>\n      <td>GTEX-1117F-0726</td>\n      <td>Heart - Atrial Appendage</td>\n      <td>GTEX-1117F</td>\n      <td>female</td>\n      <td>60-69</td>\n      <td>Slow death</td>\n      <td>no_abnormalities</td>\n      <td>2 pieces, no abnormalities</td>\n      <td>heart_atrial</td>\n    </tr>\n  </tbody>\n</table>\n</div>"
     },
     "execution_count": 31,
     "metadata": {},
     "output_type": "execute_result"
    }
   ],
   "source": [
    "df_both = df[df['sample_id'].isin(both_img_gen_list)]   # (13797, 9)\n",
    "df_both.head()"
   ],
   "metadata": {
    "collapsed": false,
    "pycharm": {
     "name": "#%%\n"
    }
   }
  },
  {
   "cell_type": "markdown",
   "source": [
    "### Create a convenient dataset for visualization in PowerBI"
   ],
   "metadata": {
    "collapsed": false,
    "pycharm": {
     "name": "#%% md\n"
    }
   }
  },
  {
   "cell_type": "code",
   "execution_count": 7,
   "outputs": [
    {
     "data": {
      "text/plain": "         sample_id                          tissue  patient_id     sex    age  \\\n0  GTEX-1117F-0126  Skin - Sun Exposed (Lower leg)  GTEX-1117F  female  60-69   \n1  GTEX-1117F-0226          Adipose - Subcutaneous  GTEX-1117F  female  60-69   \n2  GTEX-1117F-0326                  Nerve - Tibial  GTEX-1117F  female  60-69   \n3  GTEX-1117F-0426               Muscle - Skeletal  GTEX-1117F  female  60-69   \n4  GTEX-1117F-0526                 Artery - Tibial  GTEX-1117F  female  60-69   \n\n  hardy_scale              tis  \n0  Slow death         skin_sun  \n1  Slow death      adipose_sub  \n2  Slow death     nerve_tibial  \n3  Slow death  muscle_skeletal  \n4  Slow death    artery_tibial  ",
      "text/html": "<div>\n<style scoped>\n    .dataframe tbody tr th:only-of-type {\n        vertical-align: middle;\n    }\n\n    .dataframe tbody tr th {\n        vertical-align: top;\n    }\n\n    .dataframe thead th {\n        text-align: right;\n    }\n</style>\n<table border=\"1\" class=\"dataframe\">\n  <thead>\n    <tr style=\"text-align: right;\">\n      <th></th>\n      <th>sample_id</th>\n      <th>tissue</th>\n      <th>patient_id</th>\n      <th>sex</th>\n      <th>age</th>\n      <th>hardy_scale</th>\n      <th>tis</th>\n    </tr>\n  </thead>\n  <tbody>\n    <tr>\n      <th>0</th>\n      <td>GTEX-1117F-0126</td>\n      <td>Skin - Sun Exposed (Lower leg)</td>\n      <td>GTEX-1117F</td>\n      <td>female</td>\n      <td>60-69</td>\n      <td>Slow death</td>\n      <td>skin_sun</td>\n    </tr>\n    <tr>\n      <th>1</th>\n      <td>GTEX-1117F-0226</td>\n      <td>Adipose - Subcutaneous</td>\n      <td>GTEX-1117F</td>\n      <td>female</td>\n      <td>60-69</td>\n      <td>Slow death</td>\n      <td>adipose_sub</td>\n    </tr>\n    <tr>\n      <th>2</th>\n      <td>GTEX-1117F-0326</td>\n      <td>Nerve - Tibial</td>\n      <td>GTEX-1117F</td>\n      <td>female</td>\n      <td>60-69</td>\n      <td>Slow death</td>\n      <td>nerve_tibial</td>\n    </tr>\n    <tr>\n      <th>3</th>\n      <td>GTEX-1117F-0426</td>\n      <td>Muscle - Skeletal</td>\n      <td>GTEX-1117F</td>\n      <td>female</td>\n      <td>60-69</td>\n      <td>Slow death</td>\n      <td>muscle_skeletal</td>\n    </tr>\n    <tr>\n      <th>4</th>\n      <td>GTEX-1117F-0526</td>\n      <td>Artery - Tibial</td>\n      <td>GTEX-1117F</td>\n      <td>female</td>\n      <td>60-69</td>\n      <td>Slow death</td>\n      <td>artery_tibial</td>\n    </tr>\n  </tbody>\n</table>\n</div>"
     },
     "execution_count": 7,
     "metadata": {},
     "output_type": "execute_result"
    }
   ],
   "source": [
    "# Creation of a new dataset for visualization in PowerBI and saving it into `gtex_tis.csv`\n",
    "df_tis = df.drop(['path_categories', 'path_notes'], axis=1) # these two columns are not needed for visualization\n",
    "df_tis.to_csv('gtex_tis.csv')\n",
    "df_tis.head()"
   ],
   "metadata": {
    "collapsed": false,
    "pycharm": {
     "name": "#%%\n"
    }
   }
  },
  {
   "cell_type": "markdown",
   "source": [
    "### Create a function for image selection"
   ],
   "metadata": {
    "collapsed": false,
    "pycharm": {
     "name": "#%% md\n"
    }
   }
  },
  {
   "cell_type": "code",
   "execution_count": 32,
   "outputs": [],
   "source": [
    "def select_imgs(n_samples: int,\n",
    "                tissue_list: List[str],\n",
    "                seed: int = None) -> Dict[str, List[str]]:\n",
    "    \"\"\"\n",
    "    Create a list of sample_ids (images) that will be downloaded from the site.\n",
    "    Args:\n",
    "        n_samples (int):    number of images to download\n",
    "        tissue_list (List[str]): list of tissues which images we want to load\n",
    "        seed = 42, by default, for reproducability\n",
    "    Returns:\n",
    "        img_tis_dict (Dict[str, List[str]]): dictionary of tissues with lists of images to download\n",
    "    \"\"\"\n",
    "    img_tis_dict = {}\n",
    "    if seed:\n",
    "        random.seed(seed)\n",
    "\n",
    "    for tis in tissue_list:\n",
    "        tis_id = list(df_both[df_both.tis == tis].sample_id)                  # list of sample_id with the certain tissue\n",
    "        img_tis_dict[tis] = list(random.sample(tis_id, n_samples))   # write list of samples_id with the certain tissue in dict\n",
    "    return img_tis_dict"
   ],
   "metadata": {
    "collapsed": false,
    "pycharm": {
     "name": "#%%\n"
    }
   }
  },
  {
   "cell_type": "markdown",
   "source": [
    "### Creation a dictionary - tissue: [list of images] to download"
   ],
   "metadata": {
    "collapsed": false,
    "pycharm": {
     "name": "#%% md\n"
    }
   }
  },
  {
   "cell_type": "code",
   "execution_count": 33,
   "outputs": [
    {
     "data": {
      "text/plain": "{'lung': ['GTEX-13VXT-1426',\n  'GTEX-11TT1-1626',\n  'GTEX-1H23P-1026',\n  'GTEX-1F48J-0826',\n  'GTEX-1B932-0726',\n  'GTEX-14AS3-0926',\n  'GTEX-13PL7-1726',\n  'GTEX-ZPIC-0626',\n  'GTEX-13NZ9-0926',\n  'GTEX-QV44-0926'],\n 'brain_cortex': ['GTEX-11EMC-3226',\n  'GTEX-11EI6-3026',\n  'GTEX-12WSA-2926',\n  'GTEX-13OW8-2826',\n  'GTEX-13S7M-3126',\n  'GTEX-1F52S-3126',\n  'GTEX-1HBPH-3126',\n  'GTEX-11DXY-3226',\n  'GTEX-1GZ2Q-3226',\n  'GTEX-13O3Q-2926']}"
     },
     "execution_count": 33,
     "metadata": {},
     "output_type": "execute_result"
    }
   ],
   "source": [
    "tissues_list = ['lung', 'brain_cortex']\n",
    "selected_imgs = select_imgs(10, tissues_list, seed=42)\n",
    "selected_imgs"
   ],
   "metadata": {
    "collapsed": false,
    "pycharm": {
     "name": "#%%\n"
    }
   }
  },
  {
   "cell_type": "markdown",
   "source": [
    "### Saving `selected_imgs` to use in Python script"
   ],
   "metadata": {
    "collapsed": false,
    "pycharm": {
     "name": "#%% md\n"
    }
   }
  },
  {
   "cell_type": "code",
   "execution_count": 34,
   "outputs": [],
   "source": [
    "with open(project_dir+'lung_brain_10.json', \"w\") as json_file:\n",
    "    json.dump(selected_imgs, json_file)"
   ],
   "metadata": {
    "collapsed": false,
    "pycharm": {
     "name": "#%%\n"
    }
   }
  },
  {
   "cell_type": "code",
   "execution_count": 38,
   "outputs": [
    {
     "data": {
      "text/plain": "{'lung': ['GTEX-13VXT-1426',\n  'GTEX-11TT1-1626',\n  'GTEX-1H23P-1026',\n  'GTEX-1F48J-0826',\n  'GTEX-1B932-0726',\n  'GTEX-14AS3-0926',\n  'GTEX-13PL7-1726',\n  'GTEX-ZPIC-0626',\n  'GTEX-13NZ9-0926',\n  'GTEX-QV44-0926'],\n 'brain_cortex': ['GTEX-11EMC-3226',\n  'GTEX-11EI6-3026',\n  'GTEX-12WSA-2926',\n  'GTEX-13OW8-2826',\n  'GTEX-13S7M-3126',\n  'GTEX-1F52S-3126',\n  'GTEX-1HBPH-3126',\n  'GTEX-11DXY-3226',\n  'GTEX-1GZ2Q-3226',\n  'GTEX-13O3Q-2926']}"
     },
     "execution_count": 38,
     "metadata": {},
     "output_type": "execute_result"
    }
   ],
   "source": [
    "check_imgs = json.load(open('lung_brain_10.json', 'rb'))\n",
    "check_imgs"
   ],
   "metadata": {
    "collapsed": false,
    "pycharm": {
     "name": "#%%\n"
    }
   }
  },
  {
   "cell_type": "markdown",
   "source": [
    "To create final `all_50.json` - select_img(50, tissue_short_list)"
   ],
   "metadata": {
    "collapsed": false,
    "pycharm": {
     "name": "#%% md\n"
    }
   }
  }
 ],
 "metadata": {
  "kernelspec": {
   "display_name": "Python 3",
   "language": "python",
   "name": "python3"
  },
  "language_info": {
   "codemirror_mode": {
    "name": "ipython",
    "version": 2
   },
   "file_extension": ".py",
   "mimetype": "text/x-python",
   "name": "python",
   "nbconvert_exporter": "python",
   "pygments_lexer": "ipython2",
   "version": "2.7.6"
  }
 },
 "nbformat": 4,
 "nbformat_minor": 0
}